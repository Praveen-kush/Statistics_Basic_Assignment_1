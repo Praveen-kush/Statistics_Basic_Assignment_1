{
 "cells": [
  {
   "cell_type": "raw",
   "id": "fef28a1b",
   "metadata": {},
   "source": [
    "What is Statistics?"
   ]
  },
  {
   "cell_type": "markdown",
   "id": "52f91026",
   "metadata": {},
   "source": [
    "Ans:"
   ]
  },
  {
   "cell_type": "markdown",
   "id": "ca0f05ec",
   "metadata": {},
   "source": [
    "Statistics is a branch of mathematics that deals with the collection, analysis, interpradiction and presentation of data."
   ]
  },
  {
   "cell_type": "markdown",
   "id": "5fa8e9bb",
   "metadata": {},
   "source": [
    "1. Descriptive Statistics: The branch uses graphs, tables , and numericals calculations to describe data from a populations or sample."
   ]
  },
  {
   "cell_type": "markdown",
   "id": "48b18f66",
   "metadata": {},
   "source": [
    "2. Inferential Statistics: Based on a sample taken from a population, inferential statistics make predictions and draw inferences about the entire populatioin."
   ]
  },
  {
   "cell_type": "raw",
   "id": "4e6fe18b",
   "metadata": {},
   "source": [
    "Q2. Define the different types of statistics and give an example of when each type might be used."
   ]
  },
  {
   "cell_type": "markdown",
   "id": "70f2979e",
   "metadata": {},
   "source": [
    "Ans:"
   ]
  },
  {
   "cell_type": "markdown",
   "id": "3195710b",
   "metadata": {},
   "source": [
    "Types of Statistics:"
   ]
  },
  {
   "cell_type": "markdown",
   "id": "f79e21c3",
   "metadata": {},
   "source": [
    "Descriptive Statistics:"
   ]
  },
  {
   "cell_type": "markdown",
   "id": "93a97ba8",
   "metadata": {},
   "source": [
    "If consists of the orgnizing and summarizing data."
   ]
  },
  {
   "cell_type": "markdown",
   "id": "1bc8b765",
   "metadata": {},
   "source": [
    "1. Measure of Central Tendency[Mean, Median, Mode]."
   ]
  },
  {
   "cell_type": "markdown",
   "id": "606ef00c",
   "metadata": {},
   "source": [
    "2. Measure of dispresion[Variance,std]"
   ]
  },
  {
   "cell_type": "markdown",
   "id": "44f29bb7",
   "metadata": {},
   "source": [
    "3. Different type of Distribution of data."
   ]
  },
  {
   "cell_type": "markdown",
   "id": "1cd4aaf0",
   "metadata": {},
   "source": [
    "Eg.: Histogram, pdf,pmf."
   ]
  },
  {
   "cell_type": "raw",
   "id": "e9ba9efd",
   "metadata": {},
   "source": [
    "Q4. Categorise the following datasets with respect to quantitative and qualitative data types:\n",
    "(i) Grading in exam: A+, A, B+, B, C+, C, D, E\n",
    "(ii) Colour of mangoes: yellow, green, orange, red\n",
    "(iii) Height data of a class: [178.9, 179, 179.5, 176, 177.2, 178.3, 175.8,...]\n",
    "(iv) Number of mangoes exported by a farm: [500, 600, 478, 672, ...]"
   ]
  },
  {
   "cell_type": "markdown",
   "id": "4e718bfc",
   "metadata": {},
   "source": [
    "Ans:"
   ]
  },
  {
   "cell_type": "markdown",
   "id": "4e82a61a",
   "metadata": {},
   "source": [
    "The datasets can be categorized as follows:\n",
    "\n",
    "- **Qualitative Data** (also known as categorical data):\n",
    "  - (i) Grading in exam: A+, A, B+, B, C+, C, D, E\n",
    "  - (ii) Colour of mangoes: yellow, green, orange, red\n",
    "\n",
    "- **Quantitative Data** (numerical data that can be measured):\n",
    "  - (iii) Height data of a class: [178.9, 179, 179.5, 176, 177.2, 178.3, 175.8,...]\n",
    "  - (iv) Number of mangoes exported by a farm: [500, 600, 478, 672, ...] \n",
    "\n",
    "Qualitative data refers to non-numeric information that describes categories or characteristics, while quantitative data includes numeric measurements or counts. The grading in exams and the color of mangoes are examples of qualitative data because they describe attributes. In contrast, the height data and the number of mangoes exported are quantitative data because they consist of numerical values that can be measured."
   ]
  },
  {
   "cell_type": "raw",
   "id": "bad83549",
   "metadata": {},
   "source": [
    "Q5. Explain the concept of levels of measurement and give an example of a variable for each level."
   ]
  },
  {
   "cell_type": "markdown",
   "id": "fd2e3207",
   "metadata": {},
   "source": [
    "**Levels of Measurement:**\n",
    "\n",
    "1. **Nominal Level**: This is the most basic level of measurement, which categorizes data without a natural order or ranking. Variables are used to label attributes uniquely.\n",
    "   - *Example*: Types of cuisine (Italian, Chinese, Indian, Mexican).\n",
    "\n",
    "2. **Ordinal Level**: This level of measurement deals with data that can be ordered or ranked, but the intervals between data points are not necessarily equal.\n",
    "   - *Example*: Rating of movie quality (bad, average, good, excellent).\n",
    "\n",
    "3. **Interval Level**: At this level, data can be ordered, and the intervals between data points are equal. However, there is no true zero point.\n",
    "   - *Example*: Temperature in Celsius (30°C, 35°C, 40°C).\n",
    "\n",
    "4. **Ratio Level**: The highest level of measurement, ratio data has all the properties of interval data, and also has a true zero point, which means the absence of the attribute.\n",
    "   - *Example*: Weight of a person (0 kg, 55 kg, 70 kg).\n",
    "\n",
    "Each level of measurement indicates how precisely data is recorded and the degree of mathematical operations that can be performed on the data. Nominal and ordinal levels are qualitative, while interval and ratio levels are quantitative."
   ]
  },
  {
   "cell_type": "raw",
   "id": "930c22fb",
   "metadata": {},
   "source": [
    "Q6. Why is it important to understand the level of measurement when analyzing data? Provide an\n",
    "example to illustrate your answer."
   ]
  },
  {
   "cell_type": "markdown",
   "id": "d00bc258",
   "metadata": {},
   "source": [
    "Ans:"
   ]
  },
  {
   "cell_type": "markdown",
   "id": "ba9a11bd",
   "metadata": {},
   "source": [
    "Understanding the level of measurement is crucial when analyzing data because it determines the types of statistical analyses that can be performed and the conclusions that can be drawn. Each level of measurement has different implications for aggregation, comparison, and mathematical operations.\n",
    "\n",
    "**Example**: Consider a dataset containing the **ages** of a group of people, which is a **ratio level** of measurement. Knowing that age is at the ratio level allows us to calculate meaningful statistics such as the mean, median, mode, range, and standard deviation. We can also make comparisons like \"Person A is twice as old as Person B\" because the ratio level has a true zero point (indicating the absence of age) and equal intervals.\n",
    "\n",
    "If we mistakenly treated age as an **ordinal level** variable, we would only be able to rank individuals by age and use non-parametric statistics, which would limit our analysis and potentially lead to incorrect conclusions about the data. Therefore, understanding the level of measurement ensures the appropriate application of statistical techniques and accurate interpretation of results."
   ]
  },
  {
   "cell_type": "raw",
   "id": "87099e4f",
   "metadata": {},
   "source": [
    "Q7. How nominal data type is different from ordinal data type."
   ]
  },
  {
   "cell_type": "markdown",
   "id": "c957fac1",
   "metadata": {},
   "source": [
    "Ans:"
   ]
  },
  {
   "cell_type": "markdown",
   "id": "1bdc5bf0",
   "metadata": {},
   "source": [
    "Nominal and ordinal data types are both categories of categorical data, but they differ primarily in the presence or absence of an inherent order:\n",
    "\n",
    "Nominal Data: This type of data categorizes variables without any natural rank or order. The categories are mutually exclusive and collectively exhaustive, but one is not inherently higher or lower than another. Examples include gender, nationality, or hair color.\n",
    "\n",
    "Ordinal Data: Unlike nominal data, ordinal data has a clear order or rank among the categories. However, the intervals between the ranks are not necessarily equal or known. Examples of ordinal data include socio-economic status (low, middle, high), education level (high school, bachelor’s, master’s, doctorate), or military ranks"
   ]
  },
  {
   "cell_type": "raw",
   "id": "57f86dcb",
   "metadata": {},
   "source": [
    "Q8. Which type of plot can be used to display data in terms of range?"
   ]
  },
  {
   "cell_type": "markdown",
   "id": "92ca32b5",
   "metadata": {},
   "source": [
    "Ans:"
   ]
  },
  {
   "cell_type": "markdown",
   "id": "15c093bb",
   "metadata": {},
   "source": [
    "To display data in terms of range, a **Box Plot** (also known as a box-and-whisker plot) is commonly used. It shows the distribution of quantitative data in a way that facilitates comparisons between variables or across levels of a categorical variable. The box shows the quartiles of the dataset while the whiskers extend to show the rest of the distribution, except for points that are determined to be \"outliers\" using a method that is a function of the inter-quartile range. Other plots that can represent data ranges include:\n",
    "\n",
    "- **Bar Charts**: Useful for showing the range of values across different categories.\n",
    "- **Histograms**: Display the frequency distribution of a dataset and can show the range of data values.\n",
    "- **Candlestick Charts**: Often used in finance, they show the high, low, opening, and closing values for a given time period.\n",
    "\n",
    "Each of these plots can be tailored to highlight different aspects of the data, including its range. <|\\im_end|>"
   ]
  },
  {
   "cell_type": "raw",
   "id": "74bad4fa",
   "metadata": {},
   "source": [
    "Q9. Describe the difference between descriptive and inferential statistics. Give an example of each\n",
    "type of statistics and explain how they are used."
   ]
  },
  {
   "cell_type": "markdown",
   "id": "0da2c239",
   "metadata": {},
   "source": [
    "Ans:"
   ]
  },
  {
   "cell_type": "markdown",
   "id": "34d4f8e2",
   "metadata": {},
   "source": [
    "**Descriptive vs. Inferential Statistics**\n",
    "\n",
    "Descriptive statistics aim to summarize and describe the characteristics of a dataset. They provide simple summaries about the sample and the measures. Common tools used in descriptive statistics include:\n",
    "\n",
    "- **Measures of Central Tendency**: Mean, median, and mode.\n",
    "- **Measures of Dispersion**: Range, variance, standard deviation, and interquartile range.\n",
    "- **Graphs**: Such as histograms, pie charts, and box plots.\n",
    "- **Tables**: Like frequency distribution tables.\n",
    "\n",
    "**Example of Descriptive Statistics**: \n",
    "Consider a dataset containing the test scores of 100 students. Descriptive statistics might include calculating the average score (mean), identifying the score in the middle of the dataset (median), and creating a histogram to visualize the distribution of scores.\n",
    "\n",
    "Inferential statistics, on the other hand, use a random sample of data from a population to make inferences or predictions about the population. It involves using probability theory to estimate population parameters.\n",
    "\n",
    "- **Estimation**: Such as point estimates and confidence intervals.\n",
    "- **Hypothesis Testing**: To determine the probability that an observed difference between groups is a dependable one or one that might have happened by chance in this study.\n",
    "- **Regression Analysis**: To predict the value of a dependent variable based on the value of at least one independent variable.\n",
    "\n",
    "**Example of Inferential Statistics**: \n",
    "From the same dataset of 100 students' test scores, inferential statistics might involve estimating the average test score for all students in the grade (population mean) using a confidence interval, or testing the hypothesis that studying more than 10 hours a week results in higher test scores.\n",
    "\n",
    "In summary, descriptive statistics describe the data you have, while inferential statistics use data to learn about the population that the sample of data is thought to represent.\n"
   ]
  },
  {
   "cell_type": "code",
   "execution_count": null,
   "id": "86f29580",
   "metadata": {},
   "outputs": [],
   "source": [
    "Q10. What are some common measures of central tendency and variability used in statistics? Explain\n",
    "how each measure can be used to describe a dataset."
   ]
  },
  {
   "cell_type": "markdown",
   "id": "e4ac19cf",
   "metadata": {},
   "source": [
    "Ans:"
   ]
  },
  {
   "cell_type": "markdown",
   "id": "3753316f",
   "metadata": {},
   "source": [
    "Common Measures of Central Tendency and Variability\n",
    "\n",
    "Central Tendency:\n",
    "\n",
    "Mean: The arithmetic average of a dataset, calculated by summing all values and dividing by the number of values. It is used to determine the overall level at which the data points are concentrated.\n",
    "\n",
    "Mean\n",
    "=\n",
    "∑\n",
    "𝑖\n",
    "=\n",
    "1\n",
    "𝑛\n",
    "𝑥\n",
    "𝑖\n",
    "𝑛\n",
    "Mean=n∑i=1n​xi​​\n",
    "\n",
    "Median: The middle value in an ordered dataset. When the dataset has an odd number of observations, the median is the middle number. For an even number of observations, it is the average of the two middle numbers. The median is useful for understanding the center of a data distribution, especially when the data is skewed.\n",
    "\n",
    "Mode: The most frequently occurring value(s) in a dataset. The mode is particularly useful for categorical data to identify the most common category.\n",
    "\n",
    "Variability:\n",
    "\n",
    "Range: The difference between the highest and lowest values in a dataset. It gives a quick sense of the spread of the data.\n",
    "\n",
    "Range\n",
    "=\n",
    "Maximum value\n",
    "−\n",
    "Minimum value\n",
    "Range=Maximum value−Minimum value\n",
    "\n",
    "Variance: A measure of how much the values in a dataset are spread out from the mean. It is calculated as the average of the squared differences from the Mean.\n",
    "\n",
    "Variance\n",
    "=\n",
    "∑\n",
    "𝑖\n",
    "=\n",
    "1\n",
    "𝑛\n",
    "(\n",
    "𝑥\n",
    "𝑖\n",
    "−\n",
    "Mean\n",
    ")\n",
    "2\n",
    "𝑛\n",
    "Variance=n∑i=1n​(xi​−Mean)2​\n",
    "\n",
    "Standard Deviation: The square root of the variance, providing a measure of spread that is in the same units as the data. It is widely used because it quantifies dispersion in a way that can be easily interpreted.\n",
    "\n",
    "Standard Deviation\n",
    "=\n",
    "Variance\n",
    "Standard Deviation=Variance​\n",
    "\n",
    "Interquartile Range (IQR): The difference between the first quartile (25th percentile) and the third quartile (75th percentile). It measures the spread of the middle 50% of the data, which is less affected by outliers than the range.\n",
    "\n",
    "IQR\n",
    "=\n",
    "𝑄\n",
    "3\n",
    "−\n",
    "𝑄\n",
    "1\n",
    "IQR=Q3−Q1\n",
    "\n",
    "These measures are fundamental in statistics for summarizing data, understanding its distribution, and making inferences about the population from which the sample was drawn."
   ]
  },
  {
   "cell_type": "code",
   "execution_count": null,
   "id": "de7d079b",
   "metadata": {},
   "outputs": [],
   "source": []
  }
 ],
 "metadata": {
  "kernelspec": {
   "display_name": "Python 3 (ipykernel)",
   "language": "python",
   "name": "python3"
  },
  "language_info": {
   "codemirror_mode": {
    "name": "ipython",
    "version": 3
   },
   "file_extension": ".py",
   "mimetype": "text/x-python",
   "name": "python",
   "nbconvert_exporter": "python",
   "pygments_lexer": "ipython3",
   "version": "3.11.9"
  }
 },
 "nbformat": 4,
 "nbformat_minor": 5
}
